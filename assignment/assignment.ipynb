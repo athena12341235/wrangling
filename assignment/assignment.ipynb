{
 "cells": [
  {
   "cell_type": "markdown",
   "id": "13ad028b-72b7-43ed-aa78-96fd4e518040",
   "metadata": {
    "id": "13ad028b-72b7-43ed-aa78-96fd4e518040"
   },
   "source": [
    "# Assignment: Data Wrangling\n",
    "## `! git clone https://github.com/DS3001/wrangling`\n",
    "## Do Q2, and one of Q1 or Q3."
   ]
  },
  {
   "cell_type": "markdown",
   "id": "5735a4d4-8be8-433a-a351-70eb8002e632",
   "metadata": {
    "id": "5735a4d4-8be8-433a-a351-70eb8002e632"
   },
   "source": [
    "**Q1.** Open the \"tidy_data.pdf\" document in the repo, which is a paper called Tidy Data by Hadley Wickham.\n",
    "\n",
    "  1. Read the abstract. What is this paper about?\n",
    "  2. Read the introduction. What is the \"tidy data standard\" intended to accomplish?\n",
    "  3. Read the intro to section 2. What does this sentence mean: \"Like families, tidy datasets are all alike but every messy dataset is messy in its own way.\" What does this sentence mean: \"For a given dataset, it’s usually easy to figure out what are observations and what are variables, but it is surprisingly difficult to precisely define variables and observations in general.\"\n",
    "  4. Read Section 2.2. How does Wickham define values, variables, and observations?\n",
    "  5. How is \"Tidy Data\" defined in section 2.3?\n",
    "  6. Read the intro to Section 3 and Section 3.1. What are the 5 most common problems with messy datasets? Why are the data in Table 4 messy? What is \"melting\" a dataset?\n",
    "  7. Why, specifically, is table 11 messy but table 12 tidy and \"molten\"?\n",
    "  8. Read Section 6. What is the \"chicken-and-egg\" problem with focusing on tidy data? What does Wickham hope happens in the future with further work on the subject of data wrangling?"
   ]
  },
  {
   "metadata": {},
   "cell_type": "markdown",
   "source": [
    "1. This paper focuses on an aspect of data cleaning known as data tidying, which is a way of organizing data in a structured, tabular format. This process makes it easier to deal with messy data without the need for complex tools, as well as allows for more efficient data manipulation, visualization, and analysis.\n",
    "2. The tidy data standard makes initial data cleaning easier by preventing the \"need to start from scratch.\" By providing a standard, consistent structure for organizing datasets, as well as a set of data analysis tools that work well together, it simplifies the initial exploration and analysis processes, allowing data analysts to focus on meaningful analysis rather than the logistics of the data.\n",
    "3. The first sentence, \"Like families, tidy datasets are all alike but every messy dataset is messy in its own way,\" is trying to reiterate the author's message that all tidy datasets follow a consistent structure, where each variable is a column and each observation is a row. In contrast, messy datasets can vary widely in how they are messy or disorganized; every messy dataset comes with its own unique structure and challenges. The second sentence, \"For a given dataset, it’s usually easy to figure out what are observations and what are variables, but it is surprisingly difficult to precisely define variables and observations in general,\" means that when looking at a particular dataset, we can identify the observations by looking at the values in rows and the variables by looking at the columns. However, it is more difficult to broadly define observations or variables because different data require different types (e.g. quantitative or qualitative variables) and structures.\n",
    "4. Values: A dataset is a collection of values, or individual pieces of data, which are usually either numbers or strings. Variables: A variable contains all values that measure the same underlying attribute across units. Observations: An observation contains all values measured on the same unit across attributes.\n",
    "5. Tidy data is a standard way of mapping the meaning of a dataset to its structure. Each variable forms a column, each observation forms a row, and each type of observational unit forms a table.\n",
    "6. The five most common problems with messy datasets: 1) column headers are values, not variable names, 2) multiple variables are stored in one column, 3) variables are stored in both rows and columns, 4) multiple types of observational units are stored in the same table, 5) a single observational unit is stored in multiple tables. Table 4 is messy because the column headers are values that really represent the variable 'income'. This violates the tidy principle that each variable should have its own column. Melting a dataset is a way of tidying a dataset by turning columns into rows.\n",
    "7. Table 11 is messy because it has multiple columns, i.e. d1-d8, that represent a single variable 'date'. Table 12a is molten because the date is now a single column. Table 12b is tidy because the element is split into separate variables with their respective values, and therefore, each variable is its own column and each row is a single observation.\n",
    "8. The chicken-and-egg problem posits that tidy data is only as useful as the tools designed to manipulate it, meanwhile, tidy tools are built specifically for tidy data. This makes it easy to get stuck in a \"local maxima\" where changing data structures or tools will not improve workflow. The author hopes to see the field of research in data tidying grow to design more tools for data wrangling that optimize performance and usage. He suggests looking at human-computer interaction, cognitive sciences, multidimensional arrays, etc."
   ],
   "id": "a561777716491d7d"
  },
  {
   "metadata": {},
   "cell_type": "markdown",
   "source": "",
   "id": "c3b5534efdac19f6"
  },
  {
   "cell_type": "markdown",
   "id": "da879ea7-8aac-48a3-b6c2-daea56d2e072",
   "metadata": {
    "id": "da879ea7-8aac-48a3-b6c2-daea56d2e072"
   },
   "source": [
    "**Q2.** This question provides some practice cleaning variables which have common problems.\n",
    "1. Numeric variable: For `./data/airbnb_hw.csv`, clean the `Price` variable as well as you can, and explain the choices you make. How many missing values do you end up with? (Hint: What happens to the formatting when a price goes over 999 dollars, say from 675 to 1,112?)\n",
    "2. Categorical variable: For the `./data/sharks.csv` data covered in the lecture, clean the \"Type\" variable as well as you can, and explain the choices you make.\n",
    "3. Dummy variable: For the pretrial data covered in the lecture, clean the `WhetherDefendantWasReleasedPretrial` variable as well as you can, and, in particular, replace missing values with `np.nan`.\n",
    "4. Missing values, not at random: For the pretrial data covered in the lecture, clean the `ImposedSentenceAllChargeInContactEvent` variable as well as you can, and explain the choices you make. (Hint: Look at the `SentenceTypeAllChargesAtConvictionInContactEvent` variable.)"
   ]
  },
  {
   "metadata": {},
   "cell_type": "markdown",
   "source": "Q2.1",
   "id": "797ae8c2442f8f57"
  },
  {
   "metadata": {
    "ExecuteTime": {
     "end_time": "2024-09-23T06:15:12.518388Z",
     "start_time": "2024-09-23T06:15:12.510170Z"
    }
   },
   "cell_type": "code",
   "source": [
    "import pandas as pd\n",
    "import numpy as np\n",
    "import matplotlib.pyplot as plt"
   ],
   "id": "6e0932c64de666cc",
   "outputs": [],
   "execution_count": 52
  },
  {
   "metadata": {},
   "cell_type": "markdown",
   "source": "First, I inspected the data frame using the .head() method and the .shape attribute to better visualize the data. Next, I printed the data type of the 'Price' variable and saw that it was of type 'object', which we do not want. Then, I printed all the unique values for 'Price' and saw that many were comma separated, which causes those values to be read in as strings. ",
   "id": "f8db18629abf971e"
  },
  {
   "metadata": {},
   "cell_type": "code",
   "source": [
    "df = pd.read_csv('./data/airbnb_hw.csv', low_memory=False)\n",
    "df.head()\n",
    "var = 'Price'\n",
    "print('Shape: ', df.shape, '\\n') # 30478 rows, 13 columns\n",
    "print('Price Type (Before Cleaning): ', df[var].dtypes, '\\n') # Type 'object'\n",
    "print('Unique Values (Before Cleaning): ', df[var].unique(), '\\n')"
   ],
   "id": "a5ebf59035d34acd",
   "outputs": [],
   "execution_count": null
  },
  {
   "metadata": {},
   "cell_type": "markdown",
   "source": "To clean the data, I removed commas from all the values using the .replace() method to prepare them to be converted into numeric values. Then, I used panda's .to_numeric() method to type cast all the values to integers and confirmed that this change was applied using the .dtype attribute and the .unique() method. Finally, I added all the null 'Price' values and found that there were 0 missing values.",
   "id": "860891a46f3e53af"
  },
  {
   "metadata": {},
   "cell_type": "code",
   "source": [
    "df[var] = df[var].str.replace(',', '') # Remove commas from all values\n",
    "df[var] = pd.to_numeric(df[var], errors=\"coerce\") # Type casting all values to int\n",
    "print('Price Type (After Cleaning): ', df[var].dtype, '\\n') # Confirm data type has changed to int\n",
    "print('Unique Values (After Cleaning): ', df[var].unique(), '\\n')\n",
    "\n",
    "print('Total Missing: ', sum(df[var].isnull()), '\\n') # 0 missing values"
   ],
   "id": "63da1eb7dd2bcec2",
   "outputs": [],
   "execution_count": null
  },
  {
   "metadata": {},
   "cell_type": "markdown",
   "source": "Q2.2",
   "id": "7f04ca59b089e016"
  },
  {
   "metadata": {},
   "cell_type": "markdown",
   "source": "First, I inspected the data frame using the .unique() method and found that there was a nan category, and there were similar categories that could be consolidated under a single category (e.g. invalid, questionable, unconfirmed, unverified, and under investigation).",
   "id": "678b6352b0ae003a"
  },
  {
   "metadata": {},
   "cell_type": "code",
   "source": [
    "sdf = pd.read_csv('./data/sharks.csv', low_memory=False)\n",
    "sdf.head()\n",
    "print('Unique Values: ', sdf['Type'].unique(), '\\n') # nan value(s)\n",
    "print(sdf['Type'].value_counts(), '\\n') # Boat vs. boating vs. boatomg, invalid vs. unconfirmed vs. unverified vs. questionable vs. under investigation"
   ],
   "id": "5f46da68912a6df7",
   "outputs": [],
   "execution_count": null
  },
  {
   "metadata": {},
   "cell_type": "markdown",
   "source": "I created a dummy variable, case_type, to hold the cleaned categories. I used the .replace() method to consolidate the 'uncertain' data (i.e. invalid, unconfirmed, unverified, questionable, and under investigation) under the nan category (i.e. treat them as missing), as well as consolidate the sea-related events under the category 'Sea Disaster'.",
   "id": "cc69bbd87927b2e8"
  },
  {
   "metadata": {},
   "cell_type": "code",
   "source": [
    "case_type = sdf['Type']\n",
    "case_type = case_type.replace(['Invalid', 'Questionable', 'Unconfirmed', 'Unverified', 'Under investigation'], np.nan)\n",
    "case_type = case_type.replace(['Watercraft', 'Boat', 'Boating', 'Boatomg'], 'Sea Disaster')\n",
    "\n",
    "sdf['Type'] = case_type\n",
    "del case_type\n",
    "\n",
    "print('Unique Values: ', sdf['Type'].unique(), '\\n')\n",
    "print(sdf['Type'].value_counts(), '\\n')"
   ],
   "id": "9a70e2279e1129a6",
   "outputs": [],
   "execution_count": null
  },
  {
   "metadata": {},
   "cell_type": "markdown",
   "source": "Q2.3",
   "id": "28f252ac3802b9b2"
  },
  {
   "metadata": {
    "ExecuteTime": {
     "end_time": "2024-09-23T23:01:44.419813Z",
     "start_time": "2024-09-23T23:01:43.087461Z"
    }
   },
   "cell_type": "code",
   "source": [
    "pdf = pd.read_parquet('./data/justice_data.parquet', 'pyarrow') # pip installed pyarrow\n",
    "pdf.head()\n",
    "var = 'WhetherDefendantWasReleasedPretrial'\n",
    "print(pdf[var].dtype, '\\n') # integer\n",
    "print(pdf[var].value_counts(), '\\n') # 9 not defined in codebook\n",
    "print('Total Missing (Before Cleaning): ', sum(pdf[var].isnull()), '\\n')\n",
    "\n",
    "released = pdf[var]\n",
    "released = released.replace(9, np.nan)\n",
    "pdf[var] = released\n",
    "del released\n",
    "print(pdf[var].value_counts(), '\\n')\n",
    "print('Total Missing (After Cleaning): ', sum(pdf[var].isnull()))"
   ],
   "id": "5e117b084ac54913",
   "outputs": [
    {
     "name": "stdout",
     "output_type": "stream",
     "text": [
      "int64 \n",
      "\n",
      "WhetherDefendantWasReleasedPretrial\n",
      "1    19154\n",
      "0     3801\n",
      "9       31\n",
      "Name: count, dtype: int64 \n",
      "\n",
      "Total Missing (Before Cleaning):  0 \n",
      "\n",
      "WhetherDefendantWasReleasedPretrial\n",
      "1.0    19154\n",
      "0.0     3801\n",
      "Name: count, dtype: int64 \n",
      "\n",
      "Total Missing (After Cleaning):  31\n"
     ]
    }
   ],
   "execution_count": 188
  },
  {
   "metadata": {},
   "cell_type": "markdown",
   "source": [
    "Q2.4\n",
    "\n",
    "First, I inspected the 'SentenceTypeAllChargesAtConvictionInContactEvent' variable using the .value_counts() method and saw that there were 5 unique sentence types. With the help of the codebook, I saw that code 0 represents probation, 1 represents jail, 2 represents prison, 4 represents other, and 9 represents non-applicable. I also inspected the 'ImposedSentenceAllChargeInContactEvent' variable using the .unique() method and saw strings of numbers, as well as the empty string.\n",
    "\n",
    "To clean the 'sentence' variable, I type casted the values to numeric to match the 'type' variable. Then, I summed the null values and found that there were 9053 missing values, 8779 of which were under code 4 and 274 of which were under code 9. So, I used the .mask() method to treat the values under code 4 as values under code 0, since code 4 includes cases where charges are dismissed, and to treat the values under code 9 as nan values for simplicity.\n",
    "\n",
    "After cleaning, there were only 274 total missing values. "
   ],
   "id": "d63c7d320b4eedbe"
  },
  {
   "metadata": {
    "ExecuteTime": {
     "end_time": "2024-09-23T23:02:11.229964Z",
     "start_time": "2024-09-23T23:02:11.148674Z"
    }
   },
   "cell_type": "code",
   "source": [
    "sentence = pdf['ImposedSentenceAllChargeInContactEvent']\n",
    "type = pdf['SentenceTypeAllChargesAtConvictionInContactEvent']\n",
    "\n",
    "print(type.value_counts(), '\\n') # 4 (other), 0 (probation), 1 (jail), 2 (prison), 9 (N/A)\n",
    "print(sentence.unique(), '\\n') # Strings, empty strings\n",
    "\n",
    "sentence = pd.to_numeric(sentence, errors=\"coerce\")\n",
    "sentence_nan = sentence.isnull()\n",
    "print('Total Missing: ', np.sum(sentence_nan), '\\n') # 9053 missing values\n",
    "print(pd.crosstab(sentence_nan, type), '\\n') # 8779 in category 4, 274 in category 9\n",
    "\n",
    "sentence = sentence.mask(type==4, 0)\n",
    "sentence = sentence.mask(type==9, np.nan)\n",
    "\n",
    "sentence_nan = sentence.isnull()\n",
    "print('Total Missing: ', np.sum(sentence_nan), '\\n') # 274 missing values\n",
    "print(pd.crosstab(sentence_nan, type))\n",
    "\n",
    "pdf['ImposedSentenceAllChargeInContactEvent'] = sentence\n",
    "del sentence\n",
    "del type"
   ],
   "id": "e75aad6f037f392f",
   "outputs": [
    {
     "name": "stdout",
     "output_type": "stream",
     "text": [
      "SentenceTypeAllChargesAtConvictionInContactEvent\n",
      "4    8779\n",
      "0    8720\n",
      "1    4299\n",
      "2     914\n",
      "9     274\n",
      "Name: count, dtype: int64 \n",
      "\n",
      "[' ' '60' '12' '.985626283367556' '36' '6' '24' '5.91375770020534' '120'\n",
      " '72' '11.9917864476386' '0' '2.95687885010267' '84' '108' '300' '240'\n",
      " '180' '4' '96' '2' '54' '.328542094455852' '44' '5' '115' '132' '48'\n",
      " '258' '34' '76' '.164271047227926' '.131416837782341' '111' '9' '3'\n",
      " '1.97125256673511' '36.9856262833676' '.0657084188911704'\n",
      " '35.4928131416838' '106.492813141684' '8' '35' '18.3141683778234' '480'\n",
      " '32' '93' '234' '732' '1.16427104722793' '4.6570841889117' '21' '7'\n",
      " '4.49281314168378' '18' '600' '43.1642710472279' '179' '52' '30' '20'\n",
      " '192' '702' '14' '55' '53' '11.9055441478439' '114' '35.0061601642711'\n",
      " '68' '.657084188911704' '46.6242299794661' '102' '65' '200' '57'\n",
      " '24.3285420944559' '12.1642710472279' '117' '81.4928131416838'\n",
      " '22.4928131416838' '1980' '3.6570841889117' '56' '10' '2.79260780287474'\n",
      " '1' '47' '22' '1500' '40' '284' '11' '118' '42' '162' '156'\n",
      " '47.2956878850103' '105' '51' '246' '29' '75' '324' '360'\n",
      " '34.4804928131417' '120.328542094456' '59.9260780287474' '66'\n",
      " '59.9917864476386' '660' '51.1642710472279' '14.9568788501027'\n",
      " '3.98562628336756' '78' '228' '1.47843942505133' '62' '4.8' '86' '168'\n",
      " '23' '33' '48.0328542094456' '720' '348' '1200' '27' '49' '87' '420' '63'\n",
      " '79.9260780287474' '57.0349075975359' '49.9712525667351'\n",
      " '59.4928131416838' '17' '238.492813141684' '60.9856262833676' '126' '45'\n",
      " '158' '216' '227' '42.9568788501027' '445' '70.952772073922' '516'\n",
      " '177.82135523614' '1752' '90' '1080' '141' '4.82956878850103' '230' '31'\n",
      " '2208' '52.5133470225873' '69' '26' '33.4928131416838' '140' '131' '344'\n",
      " '219' '101' '71' '59' '58' '120.197125256674' '67' '35.4004106776181'\n",
      " '3.28542094455852' '40.1642710472279' '91' '1.7741273100616' '155'\n",
      " '34.4928131416838' '81' '92.3285420944559' '3.5482546201232' '207' '74'\n",
      " '518' '28' '8.95687885010267' '237' '404.673511293634' '18.1642710472279'\n",
      " '10.7433264887064' '551' '39' '15' '124' '43' '176' '19.4928131416838'\n",
      " '482' '129' '88' '46' '45.8542094455852' '128.628336755647'\n",
      " '136.492813141684' '108.328542094456' '50' '363.663244353183' '288' '250'\n",
      " '107' '81.0225872689938' '444' '205' '10.6570841889117' '19'\n",
      " '66.9856262833676' '38.4928131416838' '264' '276' '173' '222' '144' '294'\n",
      " '336' '431' '450' '73' '99.3285420944559' '128' '30.8069815195072'\n",
      " '31.5256673511294' '127' '202' '55.3285420944559' '89' '242'\n",
      " '1.31416837782341' '1029' '.788501026694045' '194.858316221766' '399'\n",
      " '39.6570841889117' '56.95687885' '198' '120.985626283368'\n",
      " '47.6570841889117' '148' '6.8993839835729' '65.3285420944559'\n",
      " '5.95277207392197' '.0985626283367557' '3.32854209445585'\n",
      " '3.94250513347023' '12.9856262833676' '6.98562628336756'\n",
      " '13.1498973305955' '15.1642710472279' '17.1971252566735'\n",
      " '17.9137577002053' '104' '212' '24.6570841889117' '72.6570841889117'\n",
      " '2.98562628336756' '144.985626283368' '31.9712525667351' '183'\n",
      " '4.98562628336756' '11.8213552361396' '252' '12.394250513347'\n",
      " '42.4928131416838' '10.1642710472279' '11.1642710472279'\n",
      " '5.49281314168378' '59.6632443531827' '12.3285420944559'\n",
      " '48.9856262833676' '240.985626283368' '2.6570841889117' '540'\n",
      " '2.97125256673511' '6.32854209445585' '23.6632443531828'\n",
      " '133.657084188912' '35.3285420944559' '456' '103' '1.72279260780287'\n",
      " '12.6570841889117' '11.6570841889117' '60.3285420944559'\n",
      " '3.78850102669405' '576' '2.13141683778234' '492' '14.9856262833676'\n",
      " '24.9856262833676' '61.9712525667351' '5.6570841889117' '16'\n",
      " '42.1642710472279' '.492813141683778' '138' '13.3141683778234'\n",
      " '11.8932238193018' '5.32854209445585' '95' '62.6570841889117'\n",
      " '3.08829568788501' '11.8275154004107' '1.64271047227926'\n",
      " '47.9917864476386' '4.27104722792608' '8.32854209445585'\n",
      " '3.31416837782341' '70' '77' '1.09856262833676' '48.1642710472279'\n",
      " '27.4928131416838' '6.93839835728953' '1011' '.68993839835729'\n",
      " '1.1170431211499' '1.49281314168378' '4.16427104722793'\n",
      " '1.19712525667351' '4.07392197125257' '188' '11.3285420944559'\n",
      " '.0328542094455852' '432' '11.952772073922' '36.4928131416838'\n",
      " '23.9835728952772' '9.98562628336756' '98' '36.3285420944559' '112'\n",
      " '.394250513347023' '13' '.262833675564682' '13.7987679671458'\n",
      " '5.8870636550308' '354' '5.91991786447639' '24.1642710472279'\n",
      " '62.95687885' '4.59958932238193' '123' '2.32854209445585'\n",
      " '23.9240246406571' '204' '197' '174' '16.1498973305955' '840' '440'\n",
      " '98.95687885' '17.952772073922' '63.9425051334702' '60.1314168377823'\n",
      " '12.1314168377823' '172.952772073922' '.197125256673511'\n",
      " '138.164271047228' '4.92813141683778' '.919917864476386'\n",
      " '18.9856262833676' '6.6570841889117' '2.85420944558522'\n",
      " '8.91375770020534' '146' '12.4928131416838' '.558521560574949'\n",
      " '.722792607802875' '5.82135523613963' '84.9856262833676'\n",
      " '6.16427104722793' '15.9856262833676' '64.5585215605749'\n",
      " '38.299794661191' '11.958932238193' '3.1211498973306' '126.328542094456'\n",
      " '5.16427104722793' '64' '42.6570841889117' '312' '19.9712525667351'\n",
      " '82.3285420944559' '23.9712525667351' '17.6242299794661'\n",
      " '121.971252566735' '59.6550308008214' '1.32854209445585'\n",
      " '7.97125256673511' '1.91991786447639' '.525667351129363'\n",
      " '9.32854209445585' '42.9856262833676' '41.9137577002053'\n",
      " '72.9856262833676' '12.4784394250513' '5.19096509240246' '473'\n",
      " '16.6570841889117' '109' '86.3285420944559' '41' '1.90554414784394'\n",
      " '94.1642710472279' '302' '4.39425051334702' '10.8213552361396'\n",
      " '18.3285420944559' '154' '83' '110.956878850103' '226' '96.0328542094456'\n",
      " '4.82135523613963' '30.3285420944559' '37.9712525667351'\n",
      " '50.4640657084189' '286' '99' '99.4928131416838' '2.6611909650924'\n",
      " '70.9712525667351' '13.9712525667351' '23.6570841889117'\n",
      " '.459958932238193' '132.492813141684' '283' '49.3141683778234'\n",
      " '27.9856262833676' '38' '7.6570841889117' '83.6550308008214'\n",
      " '10.9199178644764' '162.328542094456' '37' '132.328542094456'\n",
      " '35.952772073922' '165' '10.9856262833676' '20.1642710472279'\n",
      " '2.59137577002053' '175' '180.985626283368' '10.3285420944559'\n",
      " '36.1642710472279' '120.657084188912' '232' '152' '8.98562628336756'\n",
      " '167' '11.0657084188912' '11.2032854209446' '5.19712525667351'\n",
      " '3.16427104722793' '60.1642710472279' '1.18275154004107'\n",
      " '21.1642710472279' '2.19712525667351' '4.19712525667351'\n",
      " '2.62833675564682' '119.952772073922' '119.958932238193'\n",
      " '9.49281314168378' '5.25667351129363' '15.3285420944559'\n",
      " '2.82135523613963' '192.985626283368' '48.6570841889117'\n",
      " '5.95687885010267' '2.29979466119097' '960' '2.36550308008214' '116'\n",
      " '19.5133470225873' '1.6570841889117'] \n",
      "\n",
      "Total Missing:  9053 \n",
      "\n",
      "SentenceTypeAllChargesAtConvictionInContactEvent     0     1    2     4    9\n",
      "ImposedSentenceAllChargeInContactEvent                                      \n",
      "False                                             8720  4299  914     0    0\n",
      "True                                                 0     0    0  8779  274 \n",
      "\n",
      "Total Missing:  274 \n",
      "\n",
      "SentenceTypeAllChargesAtConvictionInContactEvent     0     1    2     4    9\n",
      "ImposedSentenceAllChargeInContactEvent                                      \n",
      "False                                             8720  4299  914  8779    0\n",
      "True                                                 0     0    0     0  274\n"
     ]
    }
   ],
   "execution_count": 190
  },
  {
   "cell_type": "markdown",
   "id": "649494cd-cfd6-4f80-992a-9994fc19e1d5",
   "metadata": {
    "id": "649494cd-cfd6-4f80-992a-9994fc19e1d5"
   },
   "source": [
    "**Q3.** Many important datasets contain a race variable, typically limited to a handful of values often including Black, White, Asian, Latino, and Indigenous. This question looks at data gathering efforts on this variable by the U.S. Federal government.\n",
    "\n",
    "1. How did the most recent US Census gather data on race?\n",
    "2. Why do we gather these data? What role do these kinds of data play in politics and society? Why does data quality matter?\n",
    "3. Please provide a constructive criticism of how the Census was conducted: What was done well? What do you think was missing? How should future large scale surveys be adjusted to best reflect the diversity of the population? Could some of the Census' good practices be adopted more widely to gather richer and more useful data?\n",
    "4. How did the Census gather data on sex and gender? Please provide a similar constructive criticism of their practices.\n",
    "5. When it comes to cleaning data, what concerns do you have about protected characteristics like sex, gender, sexual identity, or race? What challenges can you imagine arising when there are missing values? What good or bad practices might people adopt, and why?\n",
    "6. Suppose someone invented an algorithm to impute values for protected characteristics like race, gender, sex, or sexuality. What kinds of concerns would you have?"
   ]
  }
 ],
 "metadata": {
  "colab": {
   "provenance": []
  },
  "kernelspec": {
   "display_name": "Python 3 (ipykernel)",
   "language": "python",
   "name": "python3"
  },
  "language_info": {
   "codemirror_mode": {
    "name": "ipython",
    "version": 3
   },
   "file_extension": ".py",
   "mimetype": "text/x-python",
   "name": "python",
   "nbconvert_exporter": "python",
   "pygments_lexer": "ipython3",
   "version": "3.10.4"
  }
 },
 "nbformat": 4,
 "nbformat_minor": 5
}
