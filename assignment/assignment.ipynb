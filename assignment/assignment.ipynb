{
 "cells": [
  {
   "cell_type": "markdown",
   "id": "13ad028b-72b7-43ed-aa78-96fd4e518040",
   "metadata": {
    "id": "13ad028b-72b7-43ed-aa78-96fd4e518040"
   },
   "source": [
    "# Assignment: Data Wrangling\n",
    "## `! git clone https://github.com/DS3001/wrangling`\n",
    "## Do Q2, and one of Q1 or Q3."
   ]
  },
  {
   "cell_type": "markdown",
   "id": "5735a4d4-8be8-433a-a351-70eb8002e632",
   "metadata": {
    "id": "5735a4d4-8be8-433a-a351-70eb8002e632"
   },
   "source": [
    "**Q1.** Open the \"tidy_data.pdf\" document in the repo, which is a paper called Tidy Data by Hadley Wickham.\n",
    "\n",
    "  1. Read the abstract. What is this paper about?\n",
    "  2. Read the introduction. What is the \"tidy data standard\" intended to accomplish?\n",
    "  3. Read the intro to section 2. What does this sentence mean: \"Like families, tidy datasets are all alike but every messy dataset is messy in its own way.\" What does this sentence mean: \"For a given dataset, it’s usually easy to figure out what are observations and what are variables, but it is surprisingly difficult to precisely define variables and observations in general.\"\n",
    "  4. Read Section 2.2. How does Wickham define values, variables, and observations?\n",
    "  5. How is \"Tidy Data\" defined in section 2.3?\n",
    "  6. Read the intro to Section 3 and Section 3.1. What are the 5 most common problems with messy datasets? Why are the data in Table 4 messy? What is \"melting\" a dataset?\n",
    "  7. Why, specifically, is table 11 messy but table 12 tidy and \"molten\"?\n",
    "  8. Read Section 6. What is the \"chicken-and-egg\" problem with focusing on tidy data? What does Wickham hope happens in the future with further work on the subject of data wrangling?"
   ]
  },
  {
   "cell_type": "markdown",
   "id": "da879ea7-8aac-48a3-b6c2-daea56d2e072",
   "metadata": {
    "id": "da879ea7-8aac-48a3-b6c2-daea56d2e072"
   },
   "source": [
    "**Q2.** This question provides some practice cleaning variables which have common problems.\n",
    "1. Numeric variable: For `./data/airbnb_hw.csv`, clean the `Price` variable as well as you can, and explain the choices you make. How many missing values do you end up with? (Hint: What happens to the formatting when a price goes over 999 dollars, say from 675 to 1,112?)\n",
    "2. Categorical variable: For the `./data/sharks.csv` data covered in the lecture, clean the \"Type\" variable as well as you can, and explain the choices you make.\n",
    "3. Dummy variable: For the pretrial data covered in the lecture, clean the `WhetherDefendantWasReleasedPretrial` variable as well as you can, and, in particular, replace missing values with `np.nan`.\n",
    "4. Missing values, not at random: For the pretrial data covered in the lecture, clean the `ImposedSentenceAllChargeInContactEvent` variable as well as you can, and explain the choices you make. (Hint: Look at the `SentenceTypeAllChargesAtConvictionInContactEvent` variable.)"
   ]
  },
  {
   "metadata": {},
   "cell_type": "markdown",
   "source": "Q2.1",
   "id": "797ae8c2442f8f57"
  },
  {
   "metadata": {
    "ExecuteTime": {
     "end_time": "2024-09-23T06:15:12.518388Z",
     "start_time": "2024-09-23T06:15:12.510170Z"
    }
   },
   "cell_type": "code",
   "source": [
    "import pandas as pd\n",
    "import numpy as np\n",
    "import matplotlib.pyplot as plt"
   ],
   "id": "6e0932c64de666cc",
   "outputs": [],
   "execution_count": 52
  },
  {
   "metadata": {},
   "cell_type": "markdown",
   "source": "First, I inspected the data frame using the .head() method and the .shape attribute to better visualize the data. Next, I printed the data type of the 'Price' variable and saw that it was of type 'object', which we do not want. Then, I printed all the unique values for 'Price' and saw that many were comma separated, which causes those values to be read in as strings. ",
   "id": "f8db18629abf971e"
  },
  {
   "metadata": {},
   "cell_type": "code",
   "source": [
    "df = pd.read_csv('./data/airbnb_hw.csv', low_memory=False)\n",
    "df.head()\n",
    "var = 'Price'\n",
    "print('Shape: ', df.shape, '\\n') # 30478 rows, 13 columns\n",
    "print('Price Type (Before Cleaning): ', df[var].dtypes, '\\n') # Type 'object'\n",
    "print('Unique Values (Before Cleaning): ', df[var].unique(), '\\n')"
   ],
   "id": "a5ebf59035d34acd",
   "outputs": [],
   "execution_count": null
  },
  {
   "metadata": {},
   "cell_type": "markdown",
   "source": "To clean the data, I removed commas from all the values using the .replace() method to prepare them to be converted into numeric values. Then, I used panda's .to_numeric() method to type cast all the values to integers and confirmed that this change was applied using the .dtype attribute and the .unique() method. Finally, I added all the null 'Price' values and found that there were 0 missing values.",
   "id": "860891a46f3e53af"
  },
  {
   "metadata": {},
   "cell_type": "code",
   "source": [
    "df[var] = df[var].str.replace(',', '') # Remove commas from all values\n",
    "df[var] = pd.to_numeric(df[var], errors=\"coerce\") # Type casting all values to int\n",
    "print('Price Type (After Cleaning): ', df[var].dtype, '\\n') # Confirm data type has changed to int\n",
    "print('Unique Values (After Cleaning): ', df[var].unique(), '\\n')\n",
    "\n",
    "print('Total Missing: ', sum(df[var].isnull()), '\\n') # 0 missing values"
   ],
   "id": "63da1eb7dd2bcec2",
   "outputs": [],
   "execution_count": null
  },
  {
   "metadata": {},
   "cell_type": "markdown",
   "source": "Q2.2",
   "id": "7f04ca59b089e016"
  },
  {
   "metadata": {},
   "cell_type": "markdown",
   "source": "First, I inspected the data frame using the .unique() method and found that there was a nan category, and there were similar categories that could be consolidated under a single category (e.g. invalid, questionable, unconfirmed, unverified, and under investigation).",
   "id": "678b6352b0ae003a"
  },
  {
   "metadata": {},
   "cell_type": "code",
   "source": [
    "sdf = pd.read_csv('./data/sharks.csv', low_memory=False)\n",
    "sdf.head()\n",
    "print('Unique Values: ', sdf['Type'].unique(), '\\n') # nan value(s)\n",
    "print(sdf['Type'].value_counts(), '\\n') # Boat vs. boating vs. boatomg, invalid vs. unconfirmed vs. unverified vs. questionable vs. under investigation"
   ],
   "id": "5f46da68912a6df7",
   "outputs": [],
   "execution_count": null
  },
  {
   "metadata": {},
   "cell_type": "markdown",
   "source": "I created a dummy variable, case_type, to hold the cleaned categories. I used the .replace() method to consolidate the 'uncertain' data (i.e. invalid, unconfirmed, unverified, questionable, and under investigation) under the nan category (i.e. treat them as missing), as well as consolidate the sea-related events under the category 'Sea Disaster'.",
   "id": "cc69bbd87927b2e8"
  },
  {
   "metadata": {},
   "cell_type": "code",
   "source": [
    "case_type = sdf['Type']\n",
    "case_type = case_type.replace(['Invalid', 'Questionable', 'Unconfirmed', 'Unverified', 'Under investigation'], np.nan)\n",
    "case_type = case_type.replace(['Watercraft', 'Boat', 'Boating', 'Boatomg'], 'Sea Disaster')\n",
    "\n",
    "sdf['Type'] = case_type\n",
    "del case_type\n",
    "\n",
    "print('Unique Values: ', sdf['Type'].unique(), '\\n')\n",
    "print(sdf['Type'].value_counts(), '\\n')"
   ],
   "id": "9a70e2279e1129a6",
   "outputs": [],
   "execution_count": null
  },
  {
   "metadata": {},
   "cell_type": "markdown",
   "source": "Q2.3: Dummy variable: For the pretrial data covered in the lecture, clean the `WhetherDefendantWasReleasedPretrial` variable as well as you can, and, in particular, replace missing values with `np.nan`.",
   "id": "28f252ac3802b9b2"
  },
  {
   "metadata": {},
   "cell_type": "code",
   "source": [
    "pdf = pd.read_parquet('./data/justice_data.parquet', 'pyarrow') # pip installed pyarrow\n",
    "pdf.head()\n",
    "var = 'WhetherDefendantWasReleasedPretrial'\n",
    "print(pdf[var].dtype, '\\n') # integer\n",
    "print(pdf[var].value_counts(), '\\n') # 9 not defined in codebook\n",
    "print('Total Missing (Before Cleaning): ', sum(pdf[var].isnull()), '\\n')\n",
    "\n",
    "released = pdf[var]\n",
    "released = released.replace(9, np.nan)\n",
    "pdf[var] = released\n",
    "del released\n",
    "print(pdf[var].value_counts(), '\\n')\n",
    "print('Total Missing (After Cleaning): ', sum(pdf[var].isnull()))"
   ],
   "id": "5e117b084ac54913",
   "outputs": [],
   "execution_count": null
  },
  {
   "cell_type": "markdown",
   "id": "649494cd-cfd6-4f80-992a-9994fc19e1d5",
   "metadata": {
    "id": "649494cd-cfd6-4f80-992a-9994fc19e1d5"
   },
   "source": [
    "**Q3.** Many important datasets contain a race variable, typically limited to a handful of values often including Black, White, Asian, Latino, and Indigenous. This question looks at data gathering efforts on this variable by the U.S. Federal government.\n",
    "\n",
    "1. How did the most recent US Census gather data on race?\n",
    "2. Why do we gather these data? What role do these kinds of data play in politics and society? Why does data quality matter?\n",
    "3. Please provide a constructive criticism of how the Census was conducted: What was done well? What do you think was missing? How should future large scale surveys be adjusted to best reflect the diversity of the population? Could some of the Census' good practices be adopted more widely to gather richer and more useful data?\n",
    "4. How did the Census gather data on sex and gender? Please provide a similar constructive criticism of their practices.\n",
    "5. When it comes to cleaning data, what concerns do you have about protected characteristics like sex, gender, sexual identity, or race? What challenges can you imagine arising when there are missing values? What good or bad practices might people adopt, and why?\n",
    "6. Suppose someone invented an algorithm to impute values for protected characteristics like race, gender, sex, or sexuality. What kinds of concerns would you have?"
   ]
  }
 ],
 "metadata": {
  "colab": {
   "provenance": []
  },
  "kernelspec": {
   "display_name": "Python 3 (ipykernel)",
   "language": "python",
   "name": "python3"
  },
  "language_info": {
   "codemirror_mode": {
    "name": "ipython",
    "version": 3
   },
   "file_extension": ".py",
   "mimetype": "text/x-python",
   "name": "python",
   "nbconvert_exporter": "python",
   "pygments_lexer": "ipython3",
   "version": "3.10.4"
  }
 },
 "nbformat": 4,
 "nbformat_minor": 5
}
